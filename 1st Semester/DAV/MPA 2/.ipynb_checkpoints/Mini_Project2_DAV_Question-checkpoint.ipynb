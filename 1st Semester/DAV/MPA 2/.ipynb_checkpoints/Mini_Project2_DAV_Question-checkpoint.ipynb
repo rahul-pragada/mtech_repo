{
 "cells": [
  {
   "cell_type": "markdown",
   "id": "6kdM0sRMPG-8",
   "metadata": {
    "id": "6kdM0sRMPG-8"
   },
   "source": [
    "**Define the necessary libraries** (1 mark)"
   ]
  },
  {
   "cell_type": "code",
   "execution_count": 2,
   "id": "ul_frjkCPS4O",
   "metadata": {
    "id": "ul_frjkCPS4O"
   },
   "outputs": [],
   "source": [
    "import pandas as pd\n",
    "import seaborn as sns"
   ]
  },
  {
   "cell_type": "markdown",
   "id": "1J_9Dqc4PdRT",
   "metadata": {
    "id": "1J_9Dqc4PdRT"
   },
   "source": [
    "**Load the dataset into the dataframe** (1 mark)"
   ]
  },
  {
   "cell_type": "code",
   "execution_count": 3,
   "id": "Ac90Gl5IPhP_",
   "metadata": {
    "id": "Ac90Gl5IPhP_"
   },
   "outputs": [
    {
     "data": {
      "text/html": [
       "<div>\n",
       "<style scoped>\n",
       "    .dataframe tbody tr th:only-of-type {\n",
       "        vertical-align: middle;\n",
       "    }\n",
       "\n",
       "    .dataframe tbody tr th {\n",
       "        vertical-align: top;\n",
       "    }\n",
       "\n",
       "    .dataframe thead th {\n",
       "        text-align: right;\n",
       "    }\n",
       "</style>\n",
       "<table border=\"1\" class=\"dataframe\">\n",
       "  <thead>\n",
       "    <tr style=\"text-align: right;\">\n",
       "      <th></th>\n",
       "      <th>Item_Identifier</th>\n",
       "      <th>Item_Weight</th>\n",
       "      <th>Item_Fat_Content</th>\n",
       "      <th>Item_Visibility</th>\n",
       "      <th>Item_Type</th>\n",
       "      <th>Item_MRP</th>\n",
       "      <th>Outlet_Identifier</th>\n",
       "      <th>Outlet_Establishment_Year</th>\n",
       "      <th>Outlet_Size</th>\n",
       "      <th>Outlet_Location_Type</th>\n",
       "      <th>Outlet_Type</th>\n",
       "      <th>Item_Outlet_Sales</th>\n",
       "    </tr>\n",
       "  </thead>\n",
       "  <tbody>\n",
       "    <tr>\n",
       "      <th>0</th>\n",
       "      <td>FDA15</td>\n",
       "      <td>9.30</td>\n",
       "      <td>Low Fat</td>\n",
       "      <td>0.016047</td>\n",
       "      <td>Dairy</td>\n",
       "      <td>249.8092</td>\n",
       "      <td>OUT049</td>\n",
       "      <td>1999</td>\n",
       "      <td>Medium</td>\n",
       "      <td>Tier 1</td>\n",
       "      <td>Supermarket Type1</td>\n",
       "      <td>3735.1380</td>\n",
       "    </tr>\n",
       "    <tr>\n",
       "      <th>1</th>\n",
       "      <td>DRC01</td>\n",
       "      <td>5.92</td>\n",
       "      <td>Regular</td>\n",
       "      <td>0.019278</td>\n",
       "      <td>Soft Drinks</td>\n",
       "      <td>48.2692</td>\n",
       "      <td>OUT018</td>\n",
       "      <td>2009</td>\n",
       "      <td>Medium</td>\n",
       "      <td>Tier 3</td>\n",
       "      <td>Supermarket Type2</td>\n",
       "      <td>443.4228</td>\n",
       "    </tr>\n",
       "    <tr>\n",
       "      <th>2</th>\n",
       "      <td>FDN15</td>\n",
       "      <td>17.50</td>\n",
       "      <td>Low Fat</td>\n",
       "      <td>0.016760</td>\n",
       "      <td>Meat</td>\n",
       "      <td>141.6180</td>\n",
       "      <td>OUT049</td>\n",
       "      <td>1999</td>\n",
       "      <td>Medium</td>\n",
       "      <td>Tier 1</td>\n",
       "      <td>Supermarket Type1</td>\n",
       "      <td>2097.2700</td>\n",
       "    </tr>\n",
       "    <tr>\n",
       "      <th>3</th>\n",
       "      <td>FDX07</td>\n",
       "      <td>19.20</td>\n",
       "      <td>Regular</td>\n",
       "      <td>0.000000</td>\n",
       "      <td>Fruits and Vegetables</td>\n",
       "      <td>182.0950</td>\n",
       "      <td>OUT010</td>\n",
       "      <td>1998</td>\n",
       "      <td>NaN</td>\n",
       "      <td>Tier 3</td>\n",
       "      <td>Grocery Store</td>\n",
       "      <td>732.3800</td>\n",
       "    </tr>\n",
       "    <tr>\n",
       "      <th>4</th>\n",
       "      <td>NCD19</td>\n",
       "      <td>8.93</td>\n",
       "      <td>Low Fat</td>\n",
       "      <td>0.000000</td>\n",
       "      <td>Household</td>\n",
       "      <td>53.8614</td>\n",
       "      <td>OUT013</td>\n",
       "      <td>1987</td>\n",
       "      <td>High</td>\n",
       "      <td>Tier 3</td>\n",
       "      <td>Supermarket Type1</td>\n",
       "      <td>994.7052</td>\n",
       "    </tr>\n",
       "  </tbody>\n",
       "</table>\n",
       "</div>"
      ],
      "text/plain": [
       "  Item_Identifier  Item_Weight Item_Fat_Content  Item_Visibility  \\\n",
       "0           FDA15         9.30          Low Fat         0.016047   \n",
       "1           DRC01         5.92          Regular         0.019278   \n",
       "2           FDN15        17.50          Low Fat         0.016760   \n",
       "3           FDX07        19.20          Regular         0.000000   \n",
       "4           NCD19         8.93          Low Fat         0.000000   \n",
       "\n",
       "               Item_Type  Item_MRP Outlet_Identifier  \\\n",
       "0                  Dairy  249.8092            OUT049   \n",
       "1            Soft Drinks   48.2692            OUT018   \n",
       "2                   Meat  141.6180            OUT049   \n",
       "3  Fruits and Vegetables  182.0950            OUT010   \n",
       "4              Household   53.8614            OUT013   \n",
       "\n",
       "   Outlet_Establishment_Year Outlet_Size Outlet_Location_Type  \\\n",
       "0                       1999      Medium               Tier 1   \n",
       "1                       2009      Medium               Tier 3   \n",
       "2                       1999      Medium               Tier 1   \n",
       "3                       1998         NaN               Tier 3   \n",
       "4                       1987        High               Tier 3   \n",
       "\n",
       "         Outlet_Type  Item_Outlet_Sales  \n",
       "0  Supermarket Type1          3735.1380  \n",
       "1  Supermarket Type2           443.4228  \n",
       "2  Supermarket Type1          2097.2700  \n",
       "3      Grocery Store           732.3800  \n",
       "4  Supermarket Type1           994.7052  "
      ]
     },
     "execution_count": 3,
     "metadata": {},
     "output_type": "execute_result"
    }
   ],
   "source": [
    "df = pd.read_csv('BigmartSales.csv')\n",
    "df.head()"
   ]
  },
  {
   "cell_type": "markdown",
   "id": "tcL8ERkxP0Fn",
   "metadata": {
    "id": "tcL8ERkxP0Fn"
   },
   "source": [
    "**Drop the \"Item_Identifier\" and \"Outlet_Identifier\" columns** (1 mark)"
   ]
  },
  {
   "cell_type": "code",
   "execution_count": null,
   "id": "4ad74f64",
   "metadata": {
    "id": "4ad74f64"
   },
   "outputs": [],
   "source": []
  },
  {
   "cell_type": "markdown",
   "id": "CssoGZYwP9EA",
   "metadata": {
    "id": "CssoGZYwP9EA"
   },
   "source": [
    "**Extract the target labels** (1 mark)"
   ]
  },
  {
   "cell_type": "code",
   "execution_count": null,
   "id": "3a8c1447",
   "metadata": {
    "id": "3a8c1447"
   },
   "outputs": [],
   "source": []
  },
  {
   "cell_type": "markdown",
   "id": "J-NIsSLIQEJg",
   "metadata": {
    "id": "J-NIsSLIQEJg"
   },
   "source": [
    "**Replace the field \"Item_Fat_Content\" with numerical value** (1 mark)"
   ]
  },
  {
   "cell_type": "code",
   "execution_count": null,
   "id": "2357e3d1",
   "metadata": {
    "id": "2357e3d1",
    "outputId": "08546d8f-4d30-4fd7-aa4c-13dcb4211179"
   },
   "outputs": [
    {
     "data": {
      "text/plain": [
       "array([0, 1], dtype=int64)"
      ]
     },
     "execution_count": 4,
     "metadata": {},
     "output_type": "execute_result"
    }
   ],
   "source": []
  },
  {
   "cell_type": "markdown",
   "id": "cyIKY0cAQOZK",
   "metadata": {
    "id": "cyIKY0cAQOZK"
   },
   "source": [
    "**Perform ordinal encoding of the \"Item_Type\", \"Outlet_Type\", \"Outlet_Location_Type\" and \"Outlet_Type\" field** (1 mark)"
   ]
  },
  {
   "cell_type": "code",
   "execution_count": null,
   "id": "tMucAcOjVmCA",
   "metadata": {
    "id": "tMucAcOjVmCA"
   },
   "outputs": [],
   "source": []
  },
  {
   "cell_type": "markdown",
   "id": "x-B8rw1fRjHJ",
   "metadata": {
    "id": "x-B8rw1fRjHJ"
   },
   "source": [
    "**Imputation of \"Outlet_Size\" field with mode value** (1 mark)"
   ]
  },
  {
   "cell_type": "code",
   "execution_count": null,
   "id": "p9xo7tSTVwsx",
   "metadata": {
    "id": "p9xo7tSTVwsx"
   },
   "outputs": [],
   "source": []
  },
  {
   "cell_type": "markdown",
   "id": "4Onuj6i6Rhkg",
   "metadata": {
    "id": "4Onuj6i6Rhkg"
   },
   "source": [
    "**Check for null values** (1 mark)"
   ]
  },
  {
   "cell_type": "code",
   "execution_count": null,
   "id": "2poAyoTZVxMo",
   "metadata": {
    "id": "2poAyoTZVxMo"
   },
   "outputs": [],
   "source": []
  },
  {
   "cell_type": "markdown",
   "id": "Ba_NQSTYRyEQ",
   "metadata": {
    "id": "Ba_NQSTYRyEQ"
   },
   "source": [
    "**Imputation of \"Item_Weight\" field with mode value** (1 mark)"
   ]
  },
  {
   "cell_type": "code",
   "execution_count": null,
   "id": "YpZFVBF9Vxtf",
   "metadata": {
    "id": "YpZFVBF9Vxtf"
   },
   "outputs": [],
   "source": []
  },
  {
   "cell_type": "markdown",
   "id": "J2Q4a-PaR7KB",
   "metadata": {
    "id": "J2Q4a-PaR7KB"
   },
   "source": [
    "**Display all field in the dataset using boxplot** (1 mark)"
   ]
  },
  {
   "cell_type": "code",
   "execution_count": null,
   "id": "zWaUseKZVyYR",
   "metadata": {
    "id": "zWaUseKZVyYR"
   },
   "outputs": [],
   "source": []
  },
  {
   "cell_type": "markdown",
   "id": "YHknhULISQ6T",
   "metadata": {
    "id": "YHknhULISQ6T"
   },
   "source": [
    "**Split the dataset into train and test(20%), apply Linear Regression and calculate RMSE value** (1 mark)"
   ]
  },
  {
   "cell_type": "code",
   "execution_count": null,
   "id": "a4NmXmnXVy5H",
   "metadata": {
    "id": "a4NmXmnXVy5H"
   },
   "outputs": [],
   "source": []
  },
  {
   "cell_type": "markdown",
   "id": "uqXooCy0Sw9B",
   "metadata": {
    "id": "uqXooCy0Sw9B"
   },
   "source": [
    "**Apply StandardScaller and split the dataset into train and test(20%)** (1 mark)"
   ]
  },
  {
   "cell_type": "code",
   "execution_count": null,
   "id": "LcyKKccGVzaY",
   "metadata": {
    "id": "LcyKKccGVzaY"
   },
   "outputs": [],
   "source": []
  },
  {
   "cell_type": "markdown",
   "id": "dEygHE0mS687",
   "metadata": {
    "id": "dEygHE0mS687"
   },
   "source": [
    "**Display all field in the dataset using boxplot** (1 mark)"
   ]
  },
  {
   "cell_type": "code",
   "execution_count": null,
   "id": "Mf2AdzWWVz2S",
   "metadata": {
    "id": "Mf2AdzWWVz2S"
   },
   "outputs": [],
   "source": []
  },
  {
   "cell_type": "markdown",
   "id": "REkskrWlTRZ0",
   "metadata": {
    "id": "REkskrWlTRZ0"
   },
   "source": [
    "**Apply Linear Regression and calculate RMSE value** (1 mark)"
   ]
  },
  {
   "cell_type": "code",
   "execution_count": null,
   "id": "UCXEWz1EV0Yr",
   "metadata": {
    "id": "UCXEWz1EV0Yr"
   },
   "outputs": [],
   "source": []
  },
  {
   "cell_type": "markdown",
   "id": "yv7HlvPETZZl",
   "metadata": {
    "id": "yv7HlvPETZZl"
   },
   "source": [
    "**Apply MinMaxScaler, split the dataset into train and test(20%), apply LinearRegression and calculate RMSE** (1 mark)"
   ]
  },
  {
   "cell_type": "code",
   "execution_count": null,
   "id": "uBIpOrM5V083",
   "metadata": {
    "id": "uBIpOrM5V083"
   },
   "outputs": [],
   "source": []
  },
  {
   "cell_type": "markdown",
   "id": "RsmaZrfJTf1J",
   "metadata": {
    "id": "RsmaZrfJTf1J"
   },
   "source": [
    "**Apply RobustScaler,Split the dataset into train and test(20%), apply LinearRegression and calculate RMSE** (1 mark)"
   ]
  },
  {
   "cell_type": "code",
   "execution_count": null,
   "id": "b5d9XLQ9V1if",
   "metadata": {
    "id": "b5d9XLQ9V1if"
   },
   "outputs": [],
   "source": []
  },
  {
   "cell_type": "markdown",
   "id": "TqHyxOlsTmwQ",
   "metadata": {
    "id": "TqHyxOlsTmwQ"
   },
   "source": [
    "**Apply MaxAbsScaler, split the dataset into train and test(20%), apply LinearRegression and calculate RMSE** (1 mark)"
   ]
  },
  {
   "cell_type": "code",
   "execution_count": null,
   "id": "gHhPvv_JV18V",
   "metadata": {
    "id": "gHhPvv_JV18V"
   },
   "outputs": [],
   "source": []
  },
  {
   "cell_type": "markdown",
   "id": "VwKDpRyXTqVt",
   "metadata": {
    "id": "VwKDpRyXTqVt"
   },
   "source": [
    "**Apply Normalizer, split the dataset into train and test(20%), apply LinearRegression and calculate RMSE** (1 mark)"
   ]
  },
  {
   "cell_type": "code",
   "execution_count": null,
   "id": "KMmGXImyV2eW",
   "metadata": {
    "id": "KMmGXImyV2eW"
   },
   "outputs": [],
   "source": []
  },
  {
   "cell_type": "markdown",
   "id": "aXlMurapT-jK",
   "metadata": {
    "id": "aXlMurapT-jK"
   },
   "source": [
    "**Define a function valuelabel to place the legend of each bar in the histogram** (1 mark)"
   ]
  },
  {
   "cell_type": "code",
   "execution_count": null,
   "id": "8s1VmLS2V3Bv",
   "metadata": {
    "id": "8s1VmLS2V3Bv"
   },
   "outputs": [],
   "source": []
  },
  {
   "cell_type": "markdown",
   "id": "HaErXDOPURMM",
   "metadata": {
    "id": "HaErXDOPURMM"
   },
   "source": [
    "**Plot a histogram to display the RMSE value of each scaler** (1 mark)"
   ]
  },
  {
   "cell_type": "code",
   "execution_count": null,
   "id": "0e789792",
   "metadata": {
    "id": "0e789792"
   },
   "outputs": [],
   "source": []
  }
 ],
 "metadata": {
  "colab": {
   "provenance": []
  },
  "kernelspec": {
   "display_name": "Python 3 (ipykernel)",
   "language": "python",
   "name": "python3"
  },
  "language_info": {
   "codemirror_mode": {
    "name": "ipython",
    "version": 3
   },
   "file_extension": ".py",
   "mimetype": "text/x-python",
   "name": "python",
   "nbconvert_exporter": "python",
   "pygments_lexer": "ipython3",
   "version": "3.11.5"
  }
 },
 "nbformat": 4,
 "nbformat_minor": 5
}
