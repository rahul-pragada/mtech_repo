{
 "cells": [
  {
   "cell_type": "code",
   "execution_count": 2,
   "id": "9b949514",
   "metadata": {
    "id": "9b949514"
   },
   "outputs": [],
   "source": [
    "import pandas as pd\n",
    "import numpy as np"
   ]
  },
  {
   "cell_type": "raw",
   "id": "5e1b63fd",
   "metadata": {
    "id": "5e1b63fd"
   },
   "source": [
    "1. create the following two dimensional arrays\n",
    "\n",
    "[[1., 0., 0., 0., 0.],\n",
    "       [0., 1., 0., 0., 0.],\n",
    "       [0., 0., 1., 0., 0.],\n",
    "       [0., 0., 0., 1., 0.],\n",
    "       [0., 0., 0., 0., 1.]]\n",
    "2. [[1, 0, 0, 0],\n",
    "       [0, 2, 0, 0],\n",
    "       [0, 0, 3, 0],\n",
    "       [0, 0, 0, 4]]\n",
    "3. Create a checkerboard pattern in an array using row and col slicing\n"
   ]
  },
  {
   "cell_type": "code",
   "execution_count": 19,
   "id": "796a7d49",
   "metadata": {},
   "outputs": [
    {
     "name": "stdout",
     "output_type": "stream",
     "text": [
      "1. [[1. 0. 0. 0. 0.]\n",
      " [0. 1. 0. 0. 0.]\n",
      " [0. 0. 1. 0. 0.]\n",
      " [0. 0. 0. 1. 0.]\n",
      " [0. 0. 0. 0. 1.]]\n",
      "2. [[1 0 0 0]\n",
      " [0 2 0 0]\n",
      " [0 0 3 0]\n",
      " [0 0 0 4]]\n",
      "3. [[1 0 1 0 1 0 1 0]\n",
      " [0 1 0 1 0 1 0 1]\n",
      " [1 0 1 0 1 0 1 0]\n",
      " [0 1 0 1 0 1 0 1]\n",
      " [1 0 1 0 1 0 1 0]\n",
      " [0 1 0 1 0 1 0 1]\n",
      " [1 0 1 0 1 0 1 0]\n",
      " [0 1 0 1 0 1 0 1]]\n"
     ]
    }
   ],
   "source": [
    "print(\"1.\", np.identity(5))\n",
    "print(\"2.\", np.diag([1,2,3,4]))\n",
    "\n",
    "\n",
    "cb = np.zeros((8,8), dtype='int32')\n",
    "cb[::2,::2] = 1\n",
    "cb[1::2,1::2] = 1\n",
    "cb"
   ]
  },
  {
   "cell_type": "raw",
   "id": "b57ec644",
   "metadata": {
    "id": "b57ec644"
   },
   "source": [
    "4. Compute the no of bytes occupied in the memory for an array of numbers from 1 to 10"
   ]
  },
  {
   "cell_type": "code",
   "execution_count": 29,
   "id": "040c1b07",
   "metadata": {},
   "outputs": [
    {
     "name": "stdout",
     "output_type": "stream",
     "text": [
      "bytes occupied in the memory 40\n"
     ]
    }
   ],
   "source": [
    "ar = np.array(np.arange(1,11))\n",
    "print(\"bytes occupied in the memory\", ar.nbytes)"
   ]
  },
  {
   "cell_type": "raw",
   "id": "3b270eab",
   "metadata": {
    "id": "3b270eab"
   },
   "source": [
    "5. img=[[200,210,209],[213,0,214],[214,215,217]]\n",
    "\n",
    "Given a snap shot of the image, estimate the centre pixel with mean,median values.\n",
    "\n"
   ]
  },
  {
   "cell_type": "code",
   "execution_count": 55,
   "id": "863694c9",
   "metadata": {},
   "outputs": [
    {
     "name": "stdout",
     "output_type": "stream",
     "text": [
      "[[200 210 209]\n",
      " [213   0 214]\n",
      " [214 215 217]]\n",
      "mean filling [[200 210 209]\n",
      " [213 188 214]\n",
      " [214 215 217]]\n",
      "median filling [[200 210 209]\n",
      " [213 213 214]\n",
      " [214 215 217]]\n"
     ]
    }
   ],
   "source": [
    "ar = np.array([[200,210,209],[213,0,214],[214,215,217]])\n",
    "print(ar)\n",
    "\n",
    "ar_flat = ar.flatten()\n",
    "ar[1,1] = np.mean(ar_flat)\n",
    "print(\"mean filling\", ar)\n",
    "ar[1,1] = np.median(ar_flat)\n",
    "print(\"median filling\", ar)\n",
    "\n",
    "# looks like mean approximation is spoiling the original value, \n",
    "# either we have to reduce the divisor by -1 or \n",
    "# median seems to provide closer value in our case."
   ]
  },
  {
   "cell_type": "raw",
   "id": "0a925b91",
   "metadata": {
    "id": "0a925b91"
   },
   "source": [
    "6. create a Pandas series to store the marks of students and filter the marks >50,>70,>90"
   ]
  },
  {
   "cell_type": "code",
   "execution_count": 56,
   "id": "d8fcb8c9",
   "metadata": {},
   "outputs": [
    {
     "name": "stdout",
     "output_type": "stream",
     "text": [
      "filter the marks >50 0     87\n",
      "3     63\n",
      "5     70\n",
      "6     77\n",
      "7     88\n",
      "8     97\n",
      "10    67\n",
      "13    65\n",
      "19    55\n",
      "20    70\n",
      "21    70\n",
      "23    97\n",
      "26    57\n",
      "28    88\n",
      "30    52\n",
      "31    93\n",
      "32    58\n",
      "33    63\n",
      "34    88\n",
      "36    63\n",
      "37    83\n",
      "38    90\n",
      "40    98\n",
      "42    70\n",
      "44    86\n",
      "45    89\n",
      "46    94\n",
      "49    98\n",
      "dtype: int32\n",
      "filter the marks >70 0     87\n",
      "6     77\n",
      "7     88\n",
      "8     97\n",
      "23    97\n",
      "28    88\n",
      "31    93\n",
      "34    88\n",
      "37    83\n",
      "38    90\n",
      "40    98\n",
      "44    86\n",
      "45    89\n",
      "46    94\n",
      "49    98\n",
      "dtype: int32\n",
      "filter the marks >90 0     87\n",
      "7     88\n",
      "8     97\n",
      "23    97\n",
      "28    88\n",
      "31    93\n",
      "34    88\n",
      "37    83\n",
      "38    90\n",
      "40    98\n",
      "44    86\n",
      "45    89\n",
      "46    94\n",
      "49    98\n",
      "dtype: int32\n"
     ]
    }
   ],
   "source": [
    "# create pd series of class size 50\n",
    "marks = pd.Series(np.random.randint(100,size=50))\n",
    "print (\"filter the marks >50\", marks[marks>50])\n",
    "print (\"filter the marks >70\", marks[marks>70])\n",
    "print (\"filter the marks >90\", marks[marks>80])"
   ]
  },
  {
   "cell_type": "raw",
   "id": "b023f3a9",
   "metadata": {
    "id": "b023f3a9"
   },
   "source": [
    "7.Create data frame given below to store student info from the numpy arrays defined"
   ]
  },
  {
   "cell_type": "code",
   "execution_count": 65,
   "id": "d9e17aa8",
   "metadata": {
    "id": "d9e17aa8",
    "outputId": "a3cb33b5-36d9-4f23-87d0-bdc14aae388c"
   },
   "outputs": [
    {
     "data": {
      "text/html": [
       "<div>\n",
       "<style scoped>\n",
       "    .dataframe tbody tr th:only-of-type {\n",
       "        vertical-align: middle;\n",
       "    }\n",
       "\n",
       "    .dataframe tbody tr th {\n",
       "        vertical-align: top;\n",
       "    }\n",
       "\n",
       "    .dataframe thead th {\n",
       "        text-align: right;\n",
       "    }\n",
       "</style>\n",
       "<table border=\"1\" class=\"dataframe\">\n",
       "  <thead>\n",
       "    <tr style=\"text-align: right;\">\n",
       "      <th></th>\n",
       "      <th>name</th>\n",
       "      <th>age</th>\n",
       "      <th>gender</th>\n",
       "      <th>state</th>\n",
       "      <th>cgpa</th>\n",
       "    </tr>\n",
       "  </thead>\n",
       "  <tbody>\n",
       "    <tr>\n",
       "      <th>0</th>\n",
       "      <td>kevin</td>\n",
       "      <td>23</td>\n",
       "      <td>m</td>\n",
       "      <td>TN</td>\n",
       "      <td>9</td>\n",
       "    </tr>\n",
       "    <tr>\n",
       "      <th>1</th>\n",
       "      <td>john</td>\n",
       "      <td>21</td>\n",
       "      <td>m</td>\n",
       "      <td>KL</td>\n",
       "      <td>8</td>\n",
       "    </tr>\n",
       "    <tr>\n",
       "      <th>2</th>\n",
       "      <td>hari</td>\n",
       "      <td>22</td>\n",
       "      <td>f</td>\n",
       "      <td>KN</td>\n",
       "      <td>7</td>\n",
       "    </tr>\n",
       "  </tbody>\n",
       "</table>\n",
       "</div>"
      ],
      "text/plain": [
       "    name  age gender state  cgpa\n",
       "0  kevin   23      m    TN     9\n",
       "1   john   21      m    KL     8\n",
       "2   hari   22      f    KN     7"
      ]
     },
     "execution_count": 65,
     "metadata": {},
     "output_type": "execute_result"
    }
   ],
   "source": [
    "name=np.array(['kevin','john','hari'])\n",
    "age=np.array([23,21,22])\n",
    "gender=np.array(['m','m','f'])\n",
    "state=np.array(['TN','KL','KN'])\n",
    "cgpa=np.array([9,8,7])\n",
    "\n",
    "df = pd.DataFrame({'name':name,'age':age,'gender':gender,'state':state,'cgpa':cgpa})\n",
    "df"
   ]
  },
  {
   "cell_type": "raw",
   "id": "8471b19c",
   "metadata": {
    "id": "8471b19c"
   },
   "source": [
    "'''\n",
    "    1.Filter the age\n",
    "    2.filter age,cgpa\n",
    "    3.Filter age>22\n",
    "    4.names starts with j\n",
    "    5.names contains 'n'\n",
    "    '''"
   ]
  },
  {
   "cell_type": "code",
   "execution_count": 80,
   "id": "1c5c3781",
   "metadata": {},
   "outputs": [
    {
     "name": "stdout",
     "output_type": "stream",
     "text": [
      "#1.Filter the age\n",
      "0    23\n",
      "1    21\n",
      "2    22\n",
      "Name: age, dtype: int32\n",
      "\n",
      "\n",
      "#2.filter age,cgpa\n",
      "   age  cgpa\n",
      "0   23     9\n",
      "1   21     8\n",
      "2   22     7\n",
      "\n",
      "\n",
      "#3.Filter age>22\n",
      "0    23\n",
      "Name: age, dtype: int32\n",
      "\n",
      "\n",
      "#4.names starts with j\n",
      "1    john\n",
      "Name: name, dtype: object\n",
      "\n",
      "\n",
      "#5.names contains 'n'\n",
      "1    john\n",
      "Name: name, dtype: object\n"
     ]
    }
   ],
   "source": [
    "print(\"#1.Filter the age\")\n",
    "print(df['age'])\n",
    "print(\"\\n\\n#2.filter age,cgpa\")\n",
    "print(df[['age', 'cgpa']])\n",
    "print(\"\\n\\n#3.Filter age>22\")\n",
    "print(df['age'][df['age']>22])\n",
    "print(\"\\n\\n#4.names starts with j\")\n",
    "print(df['name'][df['name'].str.startswith('j')])\n",
    "print(\"\\n\\n#5.names contains 'n'\")\n",
    "print(df['name'][df['name'].str.contains('j')])\n"
   ]
  },
  {
   "cell_type": "raw",
   "id": "9122528b",
   "metadata": {
    "id": "9122528b"
   },
   "source": [
    "8. Given the two data frames,\n",
    "dfr1=pd.DataFrame({'Id':[1,2,3,5,9],\n",
    "                    'Col1':[1,2,3,4,5],\n",
    "                     'col2':[6,7,8,9,10],\n",
    "                      'col4':['apple','orange','banana','strawberry','rasberry']})\n",
    "dfr2=pd.DataFrame({'Id':[1,1,3,5],\n",
    "                    'ColA':[8,9,10,11],\n",
    "                     'colB':[12,13,15,17],\n",
    "                      'col4':['apple','orange','banana','kiwi']})\n",
    "\n",
    "Perform left, right and inner join on the dataframes"
   ]
  },
  {
   "cell_type": "code",
   "execution_count": 89,
   "id": "ee6be82c",
   "metadata": {},
   "outputs": [
    {
     "name": "stdout",
     "output_type": "stream",
     "text": [
      "left join:\n",
      "   Idfr1  Col1  col2     col4fr1  Idfr2  ColA  colB col4fr2\n",
      "0      1     1     6       apple    1.0   8.0  12.0   apple\n",
      "1      2     2     7      orange    1.0   9.0  13.0  orange\n",
      "2      3     3     8      banana    3.0  10.0  15.0  banana\n",
      "3      5     4     9  strawberry    5.0  11.0  17.0    kiwi\n",
      "4      9     5    10    rasberry    NaN   NaN   NaN     NaN\n",
      "\n",
      "right join:\n",
      "   Idfr1  Col1  col2     col4fr1  Idfr2  ColA  colB col4fr2\n",
      "0      1     1     6       apple      1     8    12   apple\n",
      "1      2     2     7      orange      1     9    13  orange\n",
      "2      3     3     8      banana      3    10    15  banana\n",
      "3      5     4     9  strawberry      5    11    17    kiwi\n",
      "\n",
      "inner join:\n",
      "   Idfr1  Col1  col2     col4fr1  Idfr2  ColA  colB col4fr2\n",
      "0      1     1     6       apple      1     8    12   apple\n",
      "1      2     2     7      orange      1     9    13  orange\n",
      "2      3     3     8      banana      3    10    15  banana\n",
      "3      5     4     9  strawberry      5    11    17    kiwi\n"
     ]
    }
   ],
   "source": [
    "dfr1=pd.DataFrame({'Id':[1,2,3,5,9],\n",
    "                    'Col1':[1,2,3,4,5],\n",
    "                     'col2':[6,7,8,9,10],\n",
    "                      'col4':['apple','orange','banana','strawberry','rasberry']})\n",
    "dfr2=pd.DataFrame({'Id':[1,1,3,5],\n",
    "                    'ColA':[8,9,10,11],\n",
    "                     'colB':[12,13,15,17],\n",
    "                      'col4':['apple','orange','banana','kiwi']})\n",
    "print(\"left join:\")\n",
    "print(dfr1.join(dfr2, lsuffix='fr1', rsuffix='fr2', how='left'))\n",
    "print(\"\\nright join:\")\n",
    "print(dfr1.join(dfr2, lsuffix='fr1', rsuffix='fr2', how='right'))\n",
    "print(\"\\ninner join:\")\n",
    "print(dfr1.join(dfr2, lsuffix='fr1', rsuffix='fr2', how='inner'))"
   ]
  },
  {
   "cell_type": "raw",
   "id": "4b9e73eb",
   "metadata": {
    "id": "4b9e73eb"
   },
   "source": [
    "9. Apply sigmoid function to the array [2,5,6]\n",
    "1.define sigmoid function\n",
    "2.create the np array\n",
    "3.Apply the function to the array"
   ]
  },
  {
   "cell_type": "code",
   "execution_count": 94,
   "id": "9b692e45",
   "metadata": {},
   "outputs": [
    {
     "data": {
      "text/plain": [
       "array([0.88079708, 0.99330715, 0.99752738])"
      ]
     },
     "execution_count": 94,
     "metadata": {},
     "output_type": "execute_result"
    }
   ],
   "source": [
    "#1.define sigmoid function\n",
    "sig_fun = lambda x: 1/(1 + np.exp(-x))\n",
    "#2.create the np array\n",
    "ar = np.array([2,5,6])\n",
    "#3.Apply the function to the array\n",
    "sig_fun(ar)"
   ]
  }
 ],
 "metadata": {
  "colab": {
   "provenance": []
  },
  "kernelspec": {
   "display_name": "Python 3 (ipykernel)",
   "language": "python",
   "name": "python3"
  },
  "language_info": {
   "codemirror_mode": {
    "name": "ipython",
    "version": 3
   },
   "file_extension": ".py",
   "mimetype": "text/x-python",
   "name": "python",
   "nbconvert_exporter": "python",
   "pygments_lexer": "ipython3",
   "version": "3.11.5"
  }
 },
 "nbformat": 4,
 "nbformat_minor": 5
}
