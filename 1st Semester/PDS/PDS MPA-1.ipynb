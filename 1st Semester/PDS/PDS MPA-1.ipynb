{
 "cells": [
  {
   "cell_type": "markdown",
   "id": "3e740b27",
   "metadata": {},
   "source": [
    "Question 1:\n",
    "Given the sets of events,\n",
    "sports_winners = set([\"Jake\", \"John\",Eric\",\"Geetha\",\"Femi\",\"Kala\"])\n",
    "quiz_winners = set([\"John\", \"Jill\",\"Eric\",\"Geetha\",\"Femi\"])\n",
    "1. print the winners who got sports prize and quiz prize\n",
    "2. print the winners who got sports prize and not quiz prize\n",
    "3. print the winners who either sports prize or quiz prize\n",
    "4. print the winners who got quize prize and not sports prize"
   ]
  },
  {
   "cell_type": "code",
   "execution_count": 1,
   "id": "4be62e7a",
   "metadata": {},
   "outputs": [
    {
     "name": "stdout",
     "output_type": "stream",
     "text": [
      "The winners who got sports prize and quiz prize: \n",
      "{'Femi', 'Eric', 'Geetha', 'John'}\n",
      "\n",
      "\n",
      "The winners who got sports prize and not quiz prize:\n",
      "{'Kala', 'Jake'}\n",
      "\n",
      "\n",
      "The winners who either sports prize or quiz prize:\n",
      "{'Geetha', 'John', 'Femi', 'Eric', 'Jill', 'Kala', 'Jake'}\n",
      "\n",
      "\n",
      "The winners who got quize prize and not sports prize:\n",
      "{'Jill'}\n"
     ]
    }
   ],
   "source": [
    "sports_winners = {\"Jake\", \"John\",\"Eric\",\"Geetha\",\"Femi\",\"Kala\"}\n",
    "quiz_winners = {\"John\", \"Jill\",\"Eric\",\"Geetha\",\"Femi\"}\n",
    "\n",
    "print(\"The winners who got sports prize and quiz prize: \") \n",
    "print(sports_winners & quiz_winners)\n",
    "\n",
    "print('\\n\\nThe winners who got sports prize and not quiz prize:') \n",
    "\n",
    "print(sports_winners - quiz_winners)\n",
    "\n",
    "print('\\n\\nThe winners who either sports prize or quiz prize:')\n",
    "print(sports_winners.union(quiz_winners))\n",
    "      \n",
    "print('\\n\\nThe winners who got quize prize and not sports prize:')\n",
    "print(quiz_winners - sports_winners)"
   ]
  },
  {
   "cell_type": "markdown",
   "id": "3b64517c",
   "metadata": {},
   "source": [
    "Question 2:\n",
    "Consider the set with some integers given below\n",
    "myset = {12,34,56,3,45,67,89,1,6}\n",
    "1. Create set by filtering even numbers\n",
    "2. Create set by filtering odd numbers\n",
    "3. Create set by filtering numbers>20\n",
    "4. remove the item 56 and create a new set\n",
    "5. state the difference between remove() & discard() on the set."
   ]
  },
  {
   "cell_type": "code",
   "execution_count": 2,
   "id": "a5113e92",
   "metadata": {},
   "outputs": [
    {
     "name": "stdout",
     "output_type": "stream",
     "text": [
      "Even set:\n",
      "{56, 34, 12, 6}\n",
      "\n",
      "\n",
      "Odd set:\n",
      "{1, 3, 67, 45, 89}\n",
      "\n",
      "\n",
      "Greater 20 set\n",
      "{34, 67, 45, 56, 89}\n",
      "\n",
      "\n",
      "Newset without 56\n",
      "{1, 34, 67, 3, 6, 12, 45, 56, 89}\n"
     ]
    }
   ],
   "source": [
    "myset = {12,34,56,3,45,67,89,1,6}\n",
    "\n",
    "#1. Create set by filtering even numbers\n",
    "evenset = set(filter(lambda a: a%2==0, myset))\n",
    "print('Even set:')\n",
    "print(evenset)\n",
    "\n",
    "#2. Create set by filtering odd numbers\n",
    "oddset = set(filter(lambda a: a%2==1, myset))\n",
    "print('\\n\\nOdd set:')\n",
    "print(oddset)\n",
    "\n",
    "#3. Create set by filtering numbers>20\n",
    "g20set = set(filter(lambda a: a>20, myset))\n",
    "print('\\n\\nGreater 20 set')\n",
    "print(g20set)\n",
    "\n",
    "#4. remove the item 56 and create a new set\n",
    "myset.discard('56')\n",
    "newset = myset\n",
    "print('\\n\\nNewset without 56')\n",
    "print(newset)\n",
    "\n",
    "#5. state the difference between remove() & discard() on the set.\n",
    "#remove() removes if the item exists otherwise raise errors, \n",
    "#discard() removes if it is there otherwise no erros will be raised, \n",
    "#so in discard case, how many evertimes we run this it won't give error\n",
    "#In remove() it would give when you run it 2nd time onwards"
   ]
  },
  {
   "cell_type": "markdown",
   "id": "94f872d0",
   "metadata": {},
   "source": [
    "Question 3:\n",
    "Date and Time\n",
    "1. Print the Date after 1 week and 6 days from the current date.\n",
    "2. Given the birthday as date(2000,10,2), find the age\n",
    "3. Subtract five days from the current date and display it.\n",
    "4. Display the dates of yesterday, today and tomorrow"
   ]
  },
  {
   "cell_type": "code",
   "execution_count": 3,
   "id": "387dee7b",
   "metadata": {
    "scrolled": true
   },
   "outputs": [
    {
     "name": "stdout",
     "output_type": "stream",
     "text": [
      "futuredate is : 2023-10-16 06:28:40.035143\n",
      "Age is : 2023-10-16 06:28:40.035143\n",
      "Yesterday is : 2023-10-02 06:28:40.035143\n",
      "Currentdate is : 2023-10-03 06:28:40.035143\n",
      "tomorrow is : 2023-10-04 06:28:40.035143\n"
     ]
    }
   ],
   "source": [
    "from datetime import datetime, timedelta\n",
    "from dateutil import relativedelta\n",
    "\n",
    "Currentdate = datetime.now()\n",
    "\n",
    "#1. Print the Date after 1 week and 6 days from the current date.\n",
    "futuredate = Currentdate + timedelta(weeks = 1, days=6)\n",
    "print(f'futuredate is : {futuredate}')\n",
    "\n",
    "#2. Given the birthday as date(2000,10,2), find the age\n",
    "birthday = datetime(2000,10,2)\n",
    "age = relativedelta.relativedelta(Currentdate, birthday)\n",
    "print(f'Age is : {futuredate}')\n",
    "\n",
    "#3. Subtract five days from the current date and display it.\n",
    "fewdaysback = Currentdate - timedelta(days=5)\n",
    "\n",
    "#4. Display the dates of yesterday, today and tomorrow\n",
    "yesterday = fewdaysback = Currentdate - timedelta(days=1)\n",
    "Currentdate\n",
    "tomorrow = fewdaysback = Currentdate + timedelta(days=1)\n",
    "print(f'Yesterday is : {yesterday}')\n",
    "print(f'Currentdate is : {Currentdate}')\n",
    "print(f'tomorrow is : {tomorrow}')\n"
   ]
  },
  {
   "cell_type": "markdown",
   "id": "ba994af4",
   "metadata": {},
   "source": [
    "Question 4:\n",
    "Consider the folowing strings, string1=\"Great\", string2=\"Learning\" and string3=\"Python\".\n",
    "Perform the following operations on the given strings.\n",
    "a. Concatenate them to create a single string called \"single_string\"\n",
    "b. Access and print the first and last characters of \"single_string\"\n",
    "c. Reverse the \"single_string\" and save it in \"rev_string\"\n",
    "d. Extract the word \"Learning\" from \"single_string\""
   ]
  },
  {
   "cell_type": "code",
   "execution_count": 4,
   "id": "374ed0b0",
   "metadata": {},
   "outputs": [
    {
     "name": "stdout",
     "output_type": "stream",
     "text": [
      "Concatinated string is : Great Learning Python\n",
      "First character of Concatinated string is : G\n",
      "Last character of Concatinated string is : n\n",
      "First character of Concatinated string is : nohtyP gninraeL taerG\n",
      "Extracting the word \"Learning\" from \"single_string\": Learning\n"
     ]
    }
   ],
   "source": [
    "string1, string2, string3=\"Great\", \"Learning\", \"Python\"\n",
    "\n",
    "#a. Concatenate them to create a single string called \"single_string\"\n",
    "single_string = string1+ ' ' +string2+ ' '+string3\n",
    "print(f'Concatinated string is : {single_string}')\n",
    "\n",
    "#b. Access and print the first and last characters of \"single_string\"\n",
    "print(f'First character of Concatinated string is : {single_string[0]}')\n",
    "print(f'Last character of Concatinated string is : {single_string[-1]}')\n",
    "\n",
    "#c. Reverse the \"single_string\" and save it in \"rev_string\"\n",
    "rev_string = single_string[::-1]\n",
    "print(f'First character of Concatinated string is : {rev_string}')\n",
    "\n",
    "#d. Extract the word \"Learning\" from \"single_string\"\n",
    "split_string = single_string.split()\n",
    "print(f'Extracting the word \"Learning\" from \"single_string\": {split_string[1]}')"
   ]
  },
  {
   "cell_type": "markdown",
   "id": "71e35b65",
   "metadata": {},
   "source": [
    "Consider the given sentence \"Hello! Great Learning. Now start learning Python.\"\n",
    "a. In the given sentence where is the word \"Learning\"?:\n",
    "b. In the given sentence where is the first occurrence of the letter \"e\"?:\n",
    "c. In the given sentence where is the first occurrence of the letter \"e\" when you only search\n",
    "between position 5 and 10?:\n",
    "d. Display the list of words in the sentence"
   ]
  },
  {
   "cell_type": "code",
   "execution_count": 5,
   "id": "b200dd3b",
   "metadata": {},
   "outputs": [
    {
     "name": "stdout",
     "output_type": "stream",
     "text": [
      "Learning position: 13\n",
      "first occurrence of the letter \"e\": 1\n",
      "first occurrence of the letter \"e\" from 5 to 10 position: 9\n",
      "Display the list of words in the sentence: ['Hello!', 'Great', 'Learning.', 'Now', 'start', 'learning', 'Python.']\n"
     ]
    }
   ],
   "source": [
    "sent1 = \"Hello! Great Learning. Now start learning Python.\"\n",
    "#a. In the given sentence where is the word \"Learning\"?:\n",
    "pos1=sent1.find(\"Learning\")\n",
    "print(f'Learning position: {pos1}')\n",
    "\n",
    "#b. In the given sentence where is the first occurrence of the letter \"e\"?:\n",
    "pos2=sent1.find(\"e\")\n",
    "print(f'first occurrence of the letter \"e\": {pos2}')\n",
    "\n",
    "#c. In the given sentence where is the first occurrence of the letter \"e\" when you only search between 5 and 10th position\n",
    "pos3=sent1.find(\"e\",5,10)\n",
    "print(f'first occurrence of the letter \"e\" from 5 to 10 position: {pos3}')\n",
    "\n",
    "#Display the list of words in the sentence\n",
    "print(f'Display the list of words in the sentence: {sent1.split()}')"
   ]
  },
  {
   "cell_type": "markdown",
   "id": "0fbef18b",
   "metadata": {},
   "source": [
    "Question 6:\n",
    "Build a program that analyzes a text document (a long string) and uses a dictionary to count the\n",
    "frequency of each word. You can then display the 5 most common words and their counts."
   ]
  },
  {
   "cell_type": "code",
   "execution_count": 6,
   "id": "d0161ee1",
   "metadata": {},
   "outputs": [
    {
     "data": {
      "text/plain": [
       "'An Article on AI - 2023 will likely go down in history books as a watershed year in the application of artificial intelligence, what with OpenAI’s ChatGPT hitting\\xa0100 million monthly active users — making history — and Meta open-sourcing ImageBind AI, that aims to mimic human imagination and perception. If insights from studies and reports are to be believed, AI could be the principal driver of innovation in years t\\nManufacturing The use of collaborative bots (or cobots), working in close proximity with humans in manufacturing is on the rise. These AI-powered smart bots can perform single or multiple sets of tasks, improving productivity and efficiencies. Computer vision AI-based inspection technologies have been crucial in increasing safety, efficiency, and quality in manufacturing, by analysing anomalies\\nAgriTech One of the most critical challenges for the Indian agricultural sector is increasing efficiency and productivity and feeding our rising population. By helping transition the traditionally labour-intensive sector to a technology-aided one, AI is transforming agriculture and contributing to overcoming challenges. From checking the health of crops and soil testing, to deploying quality control\\nAI will continue to have disruptive applications in healthcare. AI-based predictive analytics can help spot patterns, identify patients at risk of diseases and disorders such as heart anomalies and diabetes, and anticipate patient outcomes. Combined with IoT, the technology has the potential of offering personalised medical support, identifying vital signs through smart devices, increase doctor-pa'"
      ]
     },
     "execution_count": 6,
     "metadata": {},
     "output_type": "execute_result"
    }
   ],
   "source": [
    "text_doc = '''An Article on AI - 2023 will likely go down in history books as a watershed year in the application of artificial intelligence, what with OpenAI’s ChatGPT hitting 100 million monthly active users — making history — and Meta open-sourcing ImageBind AI, that aims to mimic human imagination and perception. If insights from studies and reports are to be believed, AI could be the principal driver of innovation in years t\n",
    "Manufacturing The use of collaborative bots (or cobots), working in close proximity with humans in manufacturing is on the rise. These AI-powered smart bots can perform single or multiple sets of tasks, improving productivity and efficiencies. Computer vision AI-based inspection technologies have been crucial in increasing safety, efficiency, and quality in manufacturing, by analysing anomalies\n",
    "AgriTech One of the most critical challenges for the Indian agricultural sector is increasing efficiency and productivity and feeding our rising population. By helping transition the traditionally labour-intensive sector to a technology-aided one, AI is transforming agriculture and contributing to overcoming challenges. From checking the health of crops and soil testing, to deploying quality control\n",
    "AI will continue to have disruptive applications in healthcare. AI-based predictive analytics can help spot patterns, identify patients at risk of diseases and disorders such as heart anomalies and diabetes, and anticipate patient outcomes. Combined with IoT, the technology has the potential of offering personalised medical support, identifying vital signs through smart devices, increase doctor-pa'''\n",
    "text_doc"
   ]
  },
  {
   "cell_type": "code",
   "execution_count": 7,
   "id": "406d3cc0",
   "metadata": {},
   "outputs": [
    {
     "name": "stdout",
     "output_type": "stream",
     "text": [
      "[('t', 112), ('a', 104), ('in', 44), ('on', 19), ('or', 15)]\n"
     ]
    }
   ],
   "source": [
    "split_text_doc = text_doc.split()\n",
    "word_count = 0\n",
    "word_count_dictionary = {}\n",
    "for word in split_text_doc:\n",
    "    word_count = text_doc.count(word)\n",
    "    word_count_dictionary[word] = word_count\n",
    "    word_count = 0\n",
    "print(sorted(word_count_dictionary.items(), key=lambda x:x[1], reverse=True)[:5])"
   ]
  },
  {
   "cell_type": "code",
   "execution_count": null,
   "id": "17196be8",
   "metadata": {},
   "outputs": [],
   "source": []
  },
  {
   "cell_type": "markdown",
   "id": "1162df4b",
   "metadata": {},
   "source": [
    "Question 7:\n",
    "Given a list of tuples, consisting of employee_name and total_bonus_points. Find the best 3\n",
    "employees who are having the highest score. Write a function find_best_employer, which takes\n",
    "the list of tuples as argument and prints the names of top three employees\n",
    "Sample Input:\n",
    "[(‘Sanju’,321), (‘Reva’,671), (‘Darvin’,233), (‘Velan’,922), (’Satya’,223), (‘Vanathi’,102)]\n",
    "Expected Output:\n",
    "The top three employees for the year are Velan, Reva and Sanju"
   ]
  },
  {
   "cell_type": "code",
   "execution_count": 8,
   "id": "d6ba0971",
   "metadata": {},
   "outputs": [],
   "source": [
    "def find_best(list1):   \n",
    "    count=0\n",
    "    convert_dict = {}\n",
    "    for i in list1:\n",
    "        convert_dict[list1[count][0]] = list1[count][1]\n",
    "        count += 1\n",
    "    sorted_dict = (sorted(convert_dict.items(), key=lambda x:x[1], reverse=True)[:3])\n",
    "    print(f'The top three employees for the year are \\n1: {sorted_dict[0][0]} \\n2: {sorted_dict[1][0]} \\n3: {sorted_dict[2][0]}')"
   ]
  },
  {
   "cell_type": "code",
   "execution_count": 9,
   "id": "14839afe",
   "metadata": {
    "scrolled": false
   },
   "outputs": [
    {
     "name": "stdout",
     "output_type": "stream",
     "text": [
      "The top three employees for the year are \n",
      "1: Velan \n",
      "2: Reva \n",
      "3: Sanju\n"
     ]
    }
   ],
   "source": [
    "employee_list = [('Sanju',321), ('Reva',671), ('Darvin',233), ('Velan',922), ('Satya',223), ('Vanathi',102)]\n",
    "find_best(employee_list)"
   ]
  },
  {
   "cell_type": "code",
   "execution_count": null,
   "id": "56942a02",
   "metadata": {},
   "outputs": [],
   "source": []
  }
 ],
 "metadata": {
  "kernelspec": {
   "display_name": "Python 3 (ipykernel)",
   "language": "python",
   "name": "python3"
  },
  "language_info": {
   "codemirror_mode": {
    "name": "ipython",
    "version": 3
   },
   "file_extension": ".py",
   "mimetype": "text/x-python",
   "name": "python",
   "nbconvert_exporter": "python",
   "pygments_lexer": "ipython3",
   "version": "3.11.4"
  }
 },
 "nbformat": 4,
 "nbformat_minor": 5
}
